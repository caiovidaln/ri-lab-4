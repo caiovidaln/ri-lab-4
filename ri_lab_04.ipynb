{
  "nbformat": 4,
  "nbformat_minor": 0,
  "metadata": {
    "colab": {
      "name": "ri-lab-04.ipynb",
      "version": "0.3.2",
      "provenance": [],
      "collapsed_sections": [],
      "toc_visible": true,
      "include_colab_link": true
    },
    "kernelspec": {
      "name": "python3",
      "display_name": "Python 3"
    }
  },
  "cells": [
    {
      "cell_type": "markdown",
      "metadata": {
        "id": "view-in-github",
        "colab_type": "text"
      },
      "source": [
        "<a href=\"https://colab.research.google.com/github/caiovidaln/ri-lab-4/blob/master/ri_lab_04.ipynb\" target=\"_parent\"><img src=\"https://colab.research.google.com/assets/colab-badge.svg\" alt=\"Open In Colab\"/></a>"
      ]
    },
    {
      "cell_type": "code",
      "metadata": {
        "id": "bqMViZkbkgzd",
        "colab_type": "code",
        "outputId": "0bb6262a-a7c0-44ce-946e-b963413df1b3",
        "colab": {
          "base_uri": "https://localhost:8080/",
          "height": 119
        }
      },
      "source": [
        "import nltk\n",
        "import time\n",
        "import heapq\n",
        "import pandas as pd\n",
        "from nltk.corpus import stopwords\n",
        "from nltk import word_tokenize\n",
        "\n",
        "nltk.download('rslp')\n",
        "nltk.download('punkt')\n",
        "nltk.download('stopwords')\n",
        "\n",
        "_stopwords = set(stopwords.words('portuguese'))"
      ],
      "execution_count": 45,
      "outputs": [
        {
          "output_type": "stream",
          "text": [
            "[nltk_data] Downloading package rslp to /root/nltk_data...\n",
            "[nltk_data]   Package rslp is already up-to-date!\n",
            "[nltk_data] Downloading package punkt to /root/nltk_data...\n",
            "[nltk_data]   Package punkt is already up-to-date!\n",
            "[nltk_data] Downloading package stopwords to /root/nltk_data...\n",
            "[nltk_data]   Package stopwords is already up-to-date!\n"
          ],
          "name": "stdout"
        }
      ]
    },
    {
      "cell_type": "markdown",
      "metadata": {
        "id": "fJOk5UnJ4b5K",
        "colab_type": "text"
      },
      "source": [
        "#Carregando Coleção"
      ]
    },
    {
      "cell_type": "code",
      "metadata": {
        "id": "P3g12TeT4eQr",
        "colab_type": "code",
        "outputId": "a4679a19-5e79-4db3-8e02-d95a2258babd",
        "colab": {
          "base_uri": "https://localhost:8080/",
          "height": 204
        }
      },
      "source": [
        "data = pd.read_csv(\"./results.csv\")\n",
        "data.head()"
      ],
      "execution_count": 46,
      "outputs": [
        {
          "output_type": "execute_result",
          "data": {
            "text/html": [
              "<div>\n",
              "<style scoped>\n",
              "    .dataframe tbody tr th:only-of-type {\n",
              "        vertical-align: middle;\n",
              "    }\n",
              "\n",
              "    .dataframe tbody tr th {\n",
              "        vertical-align: top;\n",
              "    }\n",
              "\n",
              "    .dataframe thead th {\n",
              "        text-align: right;\n",
              "    }\n",
              "</style>\n",
              "<table border=\"1\" class=\"dataframe\">\n",
              "  <thead>\n",
              "    <tr style=\"text-align: right;\">\n",
              "      <th></th>\n",
              "      <th>title</th>\n",
              "      <th>subtitle</th>\n",
              "      <th>author</th>\n",
              "      <th>date</th>\n",
              "      <th>section</th>\n",
              "      <th>text</th>\n",
              "      <th>url</th>\n",
              "    </tr>\n",
              "  </thead>\n",
              "  <tbody>\n",
              "    <tr>\n",
              "      <th>0</th>\n",
              "      <td>“A sociedade foi Rubens Paiva  não os facínora...</td>\n",
              "      <td>A decisão da juíza que proíbe as Forças Armada...</td>\n",
              "      <td>F. M.</td>\n",
              "      <td>30/03/2019 00:11:08</td>\n",
              "      <td>Brasil</td>\n",
              "      <td>A juíza federal Ivani Silva da Luz  de Brasíli...</td>\n",
              "      <td>https://brasil.elpais.com/brasil/2019/03/26/po...</td>\n",
              "    </tr>\n",
              "    <tr>\n",
              "      <th>1</th>\n",
              "      <td>Justiça suspende decisão que proibia Forças Ar...</td>\n",
              "      <td>Liminar havia sido concedida na sexta-feira a ...</td>\n",
              "      <td>Marina Rossi</td>\n",
              "      <td>30/03/2019 16:17:59</td>\n",
              "      <td>Brasil</td>\n",
              "      <td>Menos de 24 horas depois de a juíza federal Iv...</td>\n",
              "      <td>https://brasil.elpais.com/brasil/2019/03/30/po...</td>\n",
              "    </tr>\n",
              "    <tr>\n",
              "      <th>2</th>\n",
              "      <td>Governo Bolsonaro prega “negacionismo históric...</td>\n",
              "      <td>Marcos Napolitano  professor da USP  diz que o...</td>\n",
              "      <td>Regiane Oliveira</td>\n",
              "      <td>04/04/2019 22:37:48</td>\n",
              "      <td>Brasil</td>\n",
              "      <td>Quando  determinou que  de 31 de março 1964  u...</td>\n",
              "      <td>https://brasil.elpais.com/brasil/2019/04/05/po...</td>\n",
              "    </tr>\n",
              "    <tr>\n",
              "      <th>3</th>\n",
              "      <td>Quando os pais de Gabo perceberam que tinham u...</td>\n",
              "      <td>Gustavo Tatis percorre o universo de García Má...</td>\n",
              "      <td>Jesús Ruiz Mantilla</td>\n",
              "      <td>07/03/2019 16:38:56</td>\n",
              "      <td>Cultura</td>\n",
              "      <td>Quando  era pequeno   Luisa e  Gabriel se preo...</td>\n",
              "      <td>https://brasil.elpais.com/brasil/2019/03/06/cu...</td>\n",
              "    </tr>\n",
              "    <tr>\n",
              "      <th>4</th>\n",
              "      <td>Rádios canadenses banem músicas de Michael Jac...</td>\n",
              "      <td>Quebec Cogeco Media toma a decisão após queixa...</td>\n",
              "      <td>Jaime Porras Ferreyra</td>\n",
              "      <td>07/03/2019 16:12:37</td>\n",
              "      <td>Cultura</td>\n",
              "      <td>Desde a manhã da última segunda-feira     e   ...</td>\n",
              "      <td>https://brasil.elpais.com/brasil/2019/03/06/cu...</td>\n",
              "    </tr>\n",
              "  </tbody>\n",
              "</table>\n",
              "</div>"
            ],
            "text/plain": [
              "                                               title  ...                                                url\n",
              "0  “A sociedade foi Rubens Paiva  não os facínora...  ...  https://brasil.elpais.com/brasil/2019/03/26/po...\n",
              "1  Justiça suspende decisão que proibia Forças Ar...  ...  https://brasil.elpais.com/brasil/2019/03/30/po...\n",
              "2  Governo Bolsonaro prega “negacionismo históric...  ...  https://brasil.elpais.com/brasil/2019/04/05/po...\n",
              "3  Quando os pais de Gabo perceberam que tinham u...  ...  https://brasil.elpais.com/brasil/2019/03/06/cu...\n",
              "4  Rádios canadenses banem músicas de Michael Jac...  ...  https://brasil.elpais.com/brasil/2019/03/06/cu...\n",
              "\n",
              "[5 rows x 7 columns]"
            ]
          },
          "metadata": {
            "tags": []
          },
          "execution_count": 46
        }
      ]
    },
    {
      "cell_type": "markdown",
      "metadata": {
        "id": "xYVMXPLy4kgj",
        "colab_type": "text"
      },
      "source": [
        "# Questão 1"
      ]
    },
    {
      "cell_type": "code",
      "metadata": {
        "id": "T-15_sJNCmti",
        "colab_type": "code",
        "outputId": "bd0b282b-872c-4b3d-ce61-0194db5ef121",
        "colab": {
          "base_uri": "https://localhost:8080/",
          "height": 204
        }
      },
      "source": [
        "\n",
        "tokenData = pd.DataFrame(data['text'], columns=['text'])\n",
        "tokenData['tokenized_text'] = data.apply(lambda row: nltk.word_tokenize(row['text'].lower(), language='portuguese'), axis=1)\n",
        "tokenData.head()"
      ],
      "execution_count": 47,
      "outputs": [
        {
          "output_type": "execute_result",
          "data": {
            "text/html": [
              "<div>\n",
              "<style scoped>\n",
              "    .dataframe tbody tr th:only-of-type {\n",
              "        vertical-align: middle;\n",
              "    }\n",
              "\n",
              "    .dataframe tbody tr th {\n",
              "        vertical-align: top;\n",
              "    }\n",
              "\n",
              "    .dataframe thead th {\n",
              "        text-align: right;\n",
              "    }\n",
              "</style>\n",
              "<table border=\"1\" class=\"dataframe\">\n",
              "  <thead>\n",
              "    <tr style=\"text-align: right;\">\n",
              "      <th></th>\n",
              "      <th>text</th>\n",
              "      <th>tokenized_text</th>\n",
              "    </tr>\n",
              "  </thead>\n",
              "  <tbody>\n",
              "    <tr>\n",
              "      <th>0</th>\n",
              "      <td>A juíza federal Ivani Silva da Luz  de Brasíli...</td>\n",
              "      <td>[a, juíza, federal, ivani, silva, da, luz, de,...</td>\n",
              "    </tr>\n",
              "    <tr>\n",
              "      <th>1</th>\n",
              "      <td>Menos de 24 horas depois de a juíza federal Iv...</td>\n",
              "      <td>[menos, de, 24, horas, depois, de, a, juíza, f...</td>\n",
              "    </tr>\n",
              "    <tr>\n",
              "      <th>2</th>\n",
              "      <td>Quando  determinou que  de 31 de março 1964  u...</td>\n",
              "      <td>[quando, determinou, que, de, 31, de, março, 1...</td>\n",
              "    </tr>\n",
              "    <tr>\n",
              "      <th>3</th>\n",
              "      <td>Quando  era pequeno   Luisa e  Gabriel se preo...</td>\n",
              "      <td>[quando, era, pequeno, luisa, e, gabriel, se, ...</td>\n",
              "    </tr>\n",
              "    <tr>\n",
              "      <th>4</th>\n",
              "      <td>Desde a manhã da última segunda-feira     e   ...</td>\n",
              "      <td>[desde, a, manhã, da, última, segunda-feira, e...</td>\n",
              "    </tr>\n",
              "  </tbody>\n",
              "</table>\n",
              "</div>"
            ],
            "text/plain": [
              "                                                text                                     tokenized_text\n",
              "0  A juíza federal Ivani Silva da Luz  de Brasíli...  [a, juíza, federal, ivani, silva, da, luz, de,...\n",
              "1  Menos de 24 horas depois de a juíza federal Iv...  [menos, de, 24, horas, depois, de, a, juíza, f...\n",
              "2  Quando  determinou que  de 31 de março 1964  u...  [quando, determinou, que, de, 31, de, março, 1...\n",
              "3  Quando  era pequeno   Luisa e  Gabriel se preo...  [quando, era, pequeno, luisa, e, gabriel, se, ...\n",
              "4  Desde a manhã da última segunda-feira     e   ...  [desde, a, manhã, da, última, segunda-feira, e..."
            ]
          },
          "metadata": {
            "tags": []
          },
          "execution_count": 47
        }
      ]
    },
    {
      "cell_type": "code",
      "metadata": {
        "id": "3gu2feJKL8v2",
        "colab_type": "code",
        "colab": {}
      },
      "source": [
        "def is_tokenized_word(word):\n",
        "\n",
        "  return len(word) > 1 and any(c.isalnum() for c in word)"
      ],
      "execution_count": 0,
      "outputs": []
    },
    {
      "cell_type": "code",
      "metadata": {
        "id": "cS09w7OQ4m9x",
        "colab_type": "code",
        "colab": {}
      },
      "source": [
        "def build_index():\n",
        "  index = {}\n",
        "  num_document = 0\n",
        "\n",
        "  for text in tokenData.tokenized_text:\n",
        "    num_document += 1\n",
        "    words_set = set(text)\n",
        "    for word in words_set:\n",
        "      if is_tokenized_word(word) and word.lower() not in _stopwords:\n",
        "        if word not in index.keys():\n",
        "          index[word] = []\n",
        "        index[word].append((num_document, text.count(word)))\n",
        "\n",
        "  return index"
      ],
      "execution_count": 0,
      "outputs": []
    },
    {
      "cell_type": "code",
      "metadata": {
        "id": "GgmfOcEdL9k8",
        "colab_type": "code",
        "outputId": "63950c90-0506-4bd5-b2fe-c02d304832df",
        "colab": {
          "base_uri": "https://localhost:8080/",
          "height": 359
        }
      },
      "source": [
        "indexed_data = pd.DataFrame()\n",
        "index = build_index()\n",
        "indexed_data['Word'] = [word for word in index.keys()]\n",
        "indexed_data['Documents (With Count)'] = [docs for docs in index.values()]\n",
        "indexed_data.to_csv('indexed_data.csv', encoding='utf-8', index=False)\n",
        "indexed_data.head(10)"
      ],
      "execution_count": 50,
      "outputs": [
        {
          "output_type": "execute_result",
          "data": {
            "text/html": [
              "<div>\n",
              "<style scoped>\n",
              "    .dataframe tbody tr th:only-of-type {\n",
              "        vertical-align: middle;\n",
              "    }\n",
              "\n",
              "    .dataframe tbody tr th {\n",
              "        vertical-align: top;\n",
              "    }\n",
              "\n",
              "    .dataframe thead th {\n",
              "        text-align: right;\n",
              "    }\n",
              "</style>\n",
              "<table border=\"1\" class=\"dataframe\">\n",
              "  <thead>\n",
              "    <tr style=\"text-align: right;\">\n",
              "      <th></th>\n",
              "      <th>Word</th>\n",
              "      <th>Documents (With Count)</th>\n",
              "    </tr>\n",
              "  </thead>\n",
              "  <tbody>\n",
              "    <tr>\n",
              "      <th>0</th>\n",
              "      <td>jornalista</td>\n",
              "      <td>[(1, 1), (4, 2), (6, 3), (7, 1), (9, 1), (11, ...</td>\n",
              "    </tr>\n",
              "    <tr>\n",
              "      <th>1</th>\n",
              "      <td>golpistas</td>\n",
              "      <td>[(1, 2)]</td>\n",
              "    </tr>\n",
              "    <tr>\n",
              "      <th>2</th>\n",
              "      <td>1964.</td>\n",
              "      <td>[(1, 1), (25, 2), (208, 1), (218, 1)]</td>\n",
              "    </tr>\n",
              "    <tr>\n",
              "      <th>3</th>\n",
              "      <td>ruptura</td>\n",
              "      <td>[(1, 1), (9, 1), (25, 1), (65, 1), (83, 1), (1...</td>\n",
              "    </tr>\n",
              "    <tr>\n",
              "      <th>4</th>\n",
              "      <td>uso</td>\n",
              "      <td>[(1, 1), (2, 1), (11, 1), (12, 2), (18, 1), (1...</td>\n",
              "    </tr>\n",
              "    <tr>\n",
              "      <th>5</th>\n",
              "      <td>sentença</td>\n",
              "      <td>[(1, 3), (103, 1), (106, 1), (113, 1), (169, 1...</td>\n",
              "    </tr>\n",
              "    <tr>\n",
              "      <th>6</th>\n",
              "      <td>preferem</td>\n",
              "      <td>[(1, 1), (63, 1), (65, 1), (125, 1), (172, 1),...</td>\n",
              "    </tr>\n",
              "    <tr>\n",
              "      <th>7</th>\n",
              "      <td>desta</td>\n",
              "      <td>[(1, 1), (2, 1), (20, 2), (23, 4), (26, 1), (2...</td>\n",
              "    </tr>\n",
              "    <tr>\n",
              "      <th>8</th>\n",
              "      <td>movimento</td>\n",
              "      <td>[(1, 1), (6, 1), (10, 1), (11, 9), (18, 1), (2...</td>\n",
              "    </tr>\n",
              "    <tr>\n",
              "      <th>9</th>\n",
              "      <td>repetir</td>\n",
              "      <td>[(1, 1), (76, 1), (83, 1), (151, 1)]</td>\n",
              "    </tr>\n",
              "  </tbody>\n",
              "</table>\n",
              "</div>"
            ],
            "text/plain": [
              "         Word                             Documents (With Count)\n",
              "0  jornalista  [(1, 1), (4, 2), (6, 3), (7, 1), (9, 1), (11, ...\n",
              "1   golpistas                                           [(1, 2)]\n",
              "2       1964.              [(1, 1), (25, 2), (208, 1), (218, 1)]\n",
              "3     ruptura  [(1, 1), (9, 1), (25, 1), (65, 1), (83, 1), (1...\n",
              "4         uso  [(1, 1), (2, 1), (11, 1), (12, 2), (18, 1), (1...\n",
              "5    sentença  [(1, 3), (103, 1), (106, 1), (113, 1), (169, 1...\n",
              "6    preferem  [(1, 1), (63, 1), (65, 1), (125, 1), (172, 1),...\n",
              "7       desta  [(1, 1), (2, 1), (20, 2), (23, 4), (26, 1), (2...\n",
              "8   movimento  [(1, 1), (6, 1), (10, 1), (11, 9), (18, 1), (2...\n",
              "9     repetir               [(1, 1), (76, 1), (83, 1), (151, 1)]"
            ]
          },
          "metadata": {
            "tags": []
          },
          "execution_count": 50
        }
      ]
    },
    {
      "cell_type": "markdown",
      "metadata": {
        "id": "ls-1TuFSOFlZ",
        "colab_type": "text"
      },
      "source": [
        "# Questão 2"
      ]
    },
    {
      "cell_type": "code",
      "metadata": {
        "id": "aKqnf55nOHhq",
        "colab_type": "code",
        "colab": {}
      },
      "source": [
        "def document_at_time(query, index, k):\n",
        "    document_count_list = []\n",
        "    r = []\n",
        "    for word in query.split():\n",
        "        document_count_list.append(index[word])\n",
        "    for document_pos in range(1, len(data) + 1):\n",
        "        sd = 0\n",
        "        for document_count in document_count_list:\n",
        "            for i in document_count:\n",
        "                if (i[0] == document_pos):\n",
        "                    sd += i[1]\n",
        "                    break\n",
        "        if (sd != 0):\n",
        "          heapq.heappush(r, (sd, document_pos))\n",
        "    \n",
        "    return heapq.nlargest(k, r)\n",
        "  \n",
        "def term_at_time(query, index, k):\n",
        "    a = {}\n",
        "    document_count_list = []\n",
        "    r = []\n",
        "    for word in query.split():\n",
        "        document_count_list.append(index[word])\n",
        "    for document_count in document_count_list:\n",
        "        for post in document_count:\n",
        "            d = post[0]\n",
        "            freq = post[1]\n",
        "            if (d in a.keys()):\n",
        "                a[d] += freq\n",
        "            else:\n",
        "                a[d] = freq\n",
        "    for (d, ad) in a.items():\n",
        "        sd = ad\n",
        "        heapq.heappush(r, (sd, d))\n",
        "\n",
        "    return heapq.nlargest(k, r)"
      ],
      "execution_count": 0,
      "outputs": []
    },
    {
      "cell_type": "code",
      "metadata": {
        "id": "Egx44Yb2Q_kb",
        "colab_type": "code",
        "outputId": "372f7d4b-e8aa-409c-ed44-06f14e57788c",
        "colab": {
          "base_uri": "https://localhost:8080/",
          "height": 204
        }
      },
      "source": [
        "queries = [\"justiça\", \"bolsa\", \"mercado\", \"avião\", \"país\"]\n",
        "k = 10\n",
        "results_doc = []\n",
        "results_term = []\n",
        "\n",
        "for query in queries:\n",
        "  score_doc = document_at_time(query, index, k)\n",
        "  results_doc.append(score_doc)\n",
        "  score_term = term_at_time(query, index, k)\n",
        "  results_term.append(score_term)\n",
        "\n",
        "queries_df = pd.DataFrame()\n",
        "queries_df['Consulta'] = queries\n",
        "queries_df['Documento por vez'] = results_doc\n",
        "queries_df['Termo por vez'] = results_term\n",
        "queries_df['Mesmo resultado'] = queries_df['Documento por vez'] == queries_df['Documento por vez']\n",
        "queries_df"
      ],
      "execution_count": 52,
      "outputs": [
        {
          "output_type": "execute_result",
          "data": {
            "text/html": [
              "<div>\n",
              "<style scoped>\n",
              "    .dataframe tbody tr th:only-of-type {\n",
              "        vertical-align: middle;\n",
              "    }\n",
              "\n",
              "    .dataframe tbody tr th {\n",
              "        vertical-align: top;\n",
              "    }\n",
              "\n",
              "    .dataframe thead th {\n",
              "        text-align: right;\n",
              "    }\n",
              "</style>\n",
              "<table border=\"1\" class=\"dataframe\">\n",
              "  <thead>\n",
              "    <tr style=\"text-align: right;\">\n",
              "      <th></th>\n",
              "      <th>Consulta</th>\n",
              "      <th>Documento por vez</th>\n",
              "      <th>Termo por vez</th>\n",
              "      <th>Mesmo resultado</th>\n",
              "    </tr>\n",
              "  </thead>\n",
              "  <tbody>\n",
              "    <tr>\n",
              "      <th>0</th>\n",
              "      <td>justiça</td>\n",
              "      <td>[(7, 66), (6, 162), (4, 166), (4, 29), (3, 217...</td>\n",
              "      <td>[(7, 66), (6, 162), (4, 166), (4, 29), (3, 217...</td>\n",
              "      <td>True</td>\n",
              "    </tr>\n",
              "    <tr>\n",
              "      <th>1</th>\n",
              "      <td>bolsa</td>\n",
              "      <td>[(9, 203), (3, 215), (3, 142), (3, 138), (2, 2...</td>\n",
              "      <td>[(9, 203), (3, 215), (3, 142), (3, 138), (2, 2...</td>\n",
              "      <td>True</td>\n",
              "    </tr>\n",
              "    <tr>\n",
              "      <th>2</th>\n",
              "      <td>mercado</td>\n",
              "      <td>[(8, 125), (8, 108), (3, 127), (3, 22), (2, 18...</td>\n",
              "      <td>[(8, 125), (8, 108), (3, 127), (3, 22), (2, 18...</td>\n",
              "      <td>True</td>\n",
              "    </tr>\n",
              "    <tr>\n",
              "      <th>3</th>\n",
              "      <td>avião</td>\n",
              "      <td>[(7, 143), (3, 224), (2, 89), (1, 247), (1, 24...</td>\n",
              "      <td>[(7, 143), (3, 224), (2, 89), (1, 247), (1, 24...</td>\n",
              "      <td>True</td>\n",
              "    </tr>\n",
              "    <tr>\n",
              "      <th>4</th>\n",
              "      <td>país</td>\n",
              "      <td>[(18, 151), (11, 173), (11, 166), (8, 208), (6...</td>\n",
              "      <td>[(18, 151), (11, 173), (11, 166), (8, 208), (6...</td>\n",
              "      <td>True</td>\n",
              "    </tr>\n",
              "  </tbody>\n",
              "</table>\n",
              "</div>"
            ],
            "text/plain": [
              "  Consulta  ... Mesmo resultado\n",
              "0  justiça  ...            True\n",
              "1    bolsa  ...            True\n",
              "2  mercado  ...            True\n",
              "3    avião  ...            True\n",
              "4     país  ...            True\n",
              "\n",
              "[5 rows x 4 columns]"
            ]
          },
          "metadata": {
            "tags": []
          },
          "execution_count": 52
        }
      ]
    },
    {
      "cell_type": "code",
      "metadata": {
        "id": "hbB70CtVWc5a",
        "colab_type": "code",
        "outputId": "47e8b70e-50d3-42ec-cb05-fbebd243d31d",
        "colab": {
          "base_uri": "https://localhost:8080/",
          "height": 51
        }
      },
      "source": [
        "import time\n",
        "        \n",
        "def document_at_time_1000_times_per_query():\n",
        "  for query in queries:\n",
        "    for _ in range(10000):\n",
        "      document_at_time(query, index, k)\n",
        "\n",
        "def term_at_time_1000_times_per_query():\n",
        "  for query in queries:\n",
        "    for _ in range(1000):\n",
        "      term_at_time(query, index, k)\n",
        "      \n",
        "qty_queries_execution = 1000 * 5\n",
        "\n",
        "document_start = time.time()\n",
        "document_at_time_1000_times_per_query()\n",
        "document_time_elapsed = time.time() - document_start\n",
        "document_average_time = document_time_elapsed / qty_queries_execution\n",
        "print(\"Tempo médio para execução de Documento Por Vez: \", document_average_time)\n",
        "\n",
        "term_start = time.time()\n",
        "term_at_time_1000_times_per_query()\n",
        "term_time_elapsed = time.time() - term_start\n",
        "term_average_time = term_time_elapsed / qty_queries_execution\n",
        "print(\"Tempo médio para execução de Termo Por Vez: \", term_average_time)"
      ],
      "execution_count": 53,
      "outputs": [
        {
          "output_type": "stream",
          "text": [
            "Tempo médio para execução de Documento Por Vez:  0.008000185251235963\n",
            "Tempo médio para execução de Termo Por Vez:  6.164608001708985e-05\n"
          ],
          "name": "stdout"
        }
      ]
    },
    {
      "cell_type": "markdown",
      "metadata": {
        "id": "Q8NjHcgzEJUp",
        "colab_type": "text"
      },
      "source": [
        "O tempo médio para execução de \"Termo Por Vez\" foi consideravelmente menor que o de \"Documento Por Vez\", cerca de 400x mais rápido, como já era esperado."
      ]
    },
    {
      "cell_type": "markdown",
      "metadata": {
        "id": "qHuCXZCAEsqx",
        "colab_type": "text"
      },
      "source": [
        "# Questão 3"
      ]
    },
    {
      "cell_type": "code",
      "metadata": {
        "id": "mBaLAbKWEuWD",
        "colab_type": "code",
        "colab": {}
      },
      "source": [
        "def conjuctive_query(query, indexes, k):\n",
        "  query_indexes = []\n",
        "  rank = []\n",
        "  \n",
        "  for word in query.split(\" \"):\n",
        "    if word in indexes.keys():\n",
        "        query_indexes.append(indexes[word])\n",
        "  \n",
        "  all_indexes = [item for sublist in query_indexes for item in sublist]\n",
        "  all_indexes.sort()\n",
        "  \n",
        "  for i in range(len(all_indexes)):\n",
        "    doc_score = 0\n",
        "    d = all_indexes.pop()\n",
        "    repeat = 1\n",
        "    for index in all_indexes:\n",
        "      if index[0] == d[0]:\n",
        "        doc_score += index[1]\n",
        "        repeat += 1\n",
        "    if doc_score != 0 and repeat == len(query_indexes):\n",
        "      doc_score += d[1]\n",
        "      heapq.heappush(rank, (doc_score, d[0]))\n",
        "        \n",
        "  return heapq.nlargest(k, rank)"
      ],
      "execution_count": 0,
      "outputs": []
    },
    {
      "cell_type": "code",
      "metadata": {
        "id": "9BcRSplCFXFo",
        "colab_type": "code",
        "outputId": "94babe36-c389-41e4-8bbe-5cde85965773",
        "colab": {
          "base_uri": "https://localhost:8080/",
          "height": 204
        }
      },
      "source": [
        "conjuctives_queries = [\"forças armadas\", \"prisão deputado\", \"donald trump\", \"companhias aéreas\", \"juros mercado\"]\n",
        "\n",
        "k = 10\n",
        "conjuctives_results = []\n",
        "\n",
        "for query in conjuctives_queries:\n",
        "  conjuctive_score = conjuctive_query(query, index, k)\n",
        "  conjuctives_results.append(conjuctive_score)\n",
        "\n",
        "conj_queries_df = pd.DataFrame()\n",
        "conj_queries_df['Query'] = conjuctives_queries\n",
        "conj_queries_df['Results'] = conjuctives_results\n",
        "conj_queries_df"
      ],
      "execution_count": 55,
      "outputs": [
        {
          "output_type": "execute_result",
          "data": {
            "text/html": [
              "<div>\n",
              "<style scoped>\n",
              "    .dataframe tbody tr th:only-of-type {\n",
              "        vertical-align: middle;\n",
              "    }\n",
              "\n",
              "    .dataframe tbody tr th {\n",
              "        vertical-align: top;\n",
              "    }\n",
              "\n",
              "    .dataframe thead th {\n",
              "        text-align: right;\n",
              "    }\n",
              "</style>\n",
              "<table border=\"1\" class=\"dataframe\">\n",
              "  <thead>\n",
              "    <tr style=\"text-align: right;\">\n",
              "      <th></th>\n",
              "      <th>Query</th>\n",
              "      <th>Results</th>\n",
              "    </tr>\n",
              "  </thead>\n",
              "  <tbody>\n",
              "    <tr>\n",
              "      <th>0</th>\n",
              "      <td>forças armadas</td>\n",
              "      <td>[(15, 150), (9, 25), (8, 208), (7, 166), (6, 1...</td>\n",
              "    </tr>\n",
              "    <tr>\n",
              "      <th>1</th>\n",
              "      <td>prisão deputado</td>\n",
              "      <td>[(11, 204), (8, 202), (2, 225), (2, 207), (2, ...</td>\n",
              "    </tr>\n",
              "    <tr>\n",
              "      <th>2</th>\n",
              "      <td>donald trump</td>\n",
              "      <td>[(4, 211), (3, 145), (3, 105), (3, 89), (2, 24...</td>\n",
              "    </tr>\n",
              "    <tr>\n",
              "      <th>3</th>\n",
              "      <td>companhias aéreas</td>\n",
              "      <td>[(6, 143), (5, 134)]</td>\n",
              "    </tr>\n",
              "    <tr>\n",
              "      <th>4</th>\n",
              "      <td>juros mercado</td>\n",
              "      <td>[(4, 34), (2, 24)]</td>\n",
              "    </tr>\n",
              "  </tbody>\n",
              "</table>\n",
              "</div>"
            ],
            "text/plain": [
              "               Query                                            Results\n",
              "0     forças armadas  [(15, 150), (9, 25), (8, 208), (7, 166), (6, 1...\n",
              "1    prisão deputado  [(11, 204), (8, 202), (2, 225), (2, 207), (2, ...\n",
              "2       donald trump  [(4, 211), (3, 145), (3, 105), (3, 89), (2, 24...\n",
              "3  companhias aéreas                               [(6, 143), (5, 134)]\n",
              "4      juros mercado                                 [(4, 34), (2, 24)]"
            ]
          },
          "metadata": {
            "tags": []
          },
          "execution_count": 55
        }
      ]
    }
  ]
}